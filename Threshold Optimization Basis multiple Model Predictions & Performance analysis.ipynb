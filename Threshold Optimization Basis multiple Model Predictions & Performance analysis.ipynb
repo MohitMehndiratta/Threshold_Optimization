{
 "cells": [
  {
   "cell_type": "code",
   "execution_count": 3,
   "metadata": {},
   "outputs": [],
   "source": [
    "from sklearn.datasets import make_classification\n",
    "from sklearn.linear_model import LogisticRegression\n",
    "import numpy as np\n",
    "import pandas as pd\n",
    "import matplotlib.pyplot as plt\n",
    "import seaborn as sn\n",
    "from sklearn.ensemble import RandomForestClassifier, AdaBoostClassifier\n",
    "from sklearn.neighbors import KNeighborsClassifier"
   ]
  },
  {
   "cell_type": "markdown",
   "metadata": {},
   "source": [
    "# Let's Create the dataset first"
   ]
  },
  {
   "cell_type": "code",
   "execution_count": 17,
   "metadata": {},
   "outputs": [],
   "source": [
    "x,y=make_classification(n_samples=2000,weights=[1,1],n_classes=2)"
   ]
  },
  {
   "cell_type": "code",
   "execution_count": 18,
   "metadata": {},
   "outputs": [
    {
     "data": {
      "text/plain": [
       "(2000, 20)"
      ]
     },
     "execution_count": 18,
     "metadata": {},
     "output_type": "execute_result"
    }
   ],
   "source": [
    "x.shape"
   ]
  },
  {
   "cell_type": "code",
   "execution_count": 19,
   "metadata": {},
   "outputs": [
    {
     "data": {
      "text/plain": [
       "(2000,)"
      ]
     },
     "execution_count": 19,
     "metadata": {},
     "output_type": "execute_result"
    }
   ],
   "source": [
    "y.shape"
   ]
  },
  {
   "cell_type": "code",
   "execution_count": 21,
   "metadata": {},
   "outputs": [
    {
     "data": {
      "text/plain": [
       "array([[ 2.44579197e-01,  1.63896306e-01, -1.52642668e+00,\n",
       "        -6.74621473e-01, -6.11582616e-01, -1.34348781e+00,\n",
       "         1.91898173e-02, -2.94099397e-01, -1.08509334e+00,\n",
       "         1.13233350e+00, -7.90888297e-01, -2.75122691e-01,\n",
       "        -7.85657146e-01,  2.18615407e+00,  1.98451076e-01,\n",
       "         5.21453138e-01, -1.82441215e+00,  1.22832242e-01,\n",
       "         6.85740017e-02, -1.00701341e+00],\n",
       "       [-1.05388098e-01,  2.32498002e+00,  3.48205285e-01,\n",
       "         7.30376155e-01,  1.45237934e+00,  7.97812636e-02,\n",
       "         7.25031948e-02,  4.11820722e-01,  3.23147320e+00,\n",
       "        -1.50076901e+00, -1.01128012e+00,  1.74490311e-01,\n",
       "        -2.36122126e-01, -3.03514841e-03,  1.53448812e+00,\n",
       "        -1.80573837e-01,  3.07067258e-02,  9.64238234e-01,\n",
       "        -1.76322320e+00, -2.63242007e-01],\n",
       "       [-7.47593605e-01,  2.77486604e-01,  1.67743347e-01,\n",
       "        -9.32939208e-01, -8.26307754e-01, -7.41350114e-01,\n",
       "        -2.20484843e+00, -1.15628043e+00, -1.56477923e-01,\n",
       "         3.60101567e-01, -1.13970066e+00, -1.82431667e+00,\n",
       "        -1.22667634e-01,  5.51513798e-01, -6.43816441e-04,\n",
       "        -1.35964991e+00, -1.19073674e-01,  1.70355107e-01,\n",
       "         1.12480636e+00, -1.42592676e+00],\n",
       "       [-9.64416880e-01,  9.91069655e-01,  9.91664421e-01,\n",
       "        -7.88450194e-01, -5.83138378e-01,  1.10754549e+00,\n",
       "         6.56487005e-01,  4.42536211e-01, -1.18224051e+00,\n",
       "         2.59063526e+00, -1.23541934e+00,  1.43529657e-01,\n",
       "        -7.93262918e-01, -6.06240851e-01,  8.13218864e-02,\n",
       "         1.62818077e+00, -1.26698173e+00, -3.56930604e-01,\n",
       "        -1.03788829e+00, -1.40238299e+00]])"
      ]
     },
     "execution_count": 21,
     "metadata": {},
     "output_type": "execute_result"
    }
   ],
   "source": [
    "x[1:5]"
   ]
  },
  {
   "cell_type": "markdown",
   "metadata": {},
   "source": [
    "# Train_Test_Splitting"
   ]
  },
  {
   "cell_type": "code",
   "execution_count": 33,
   "metadata": {},
   "outputs": [],
   "source": [
    "from sklearn.model_selection import train_test_split\n",
    "train_x,test_x,train_y,test_y=train_test_split(x,y,train_size=0.7,random_state=1)"
   ]
  },
  {
   "cell_type": "code",
   "execution_count": 34,
   "metadata": {},
   "outputs": [
    {
     "data": {
      "text/plain": [
       "array([[-1.04873778, -0.43316598,  2.1941081 , ...,  0.01148023,\n",
       "        -0.0485576 , -1.3204462 ],\n",
       "       [ 0.18581391, -0.15293387,  0.59284276, ...,  0.91851024,\n",
       "        -0.51588091, -1.82558423],\n",
       "       [-0.02799377,  0.32913772, -0.72447935, ...,  1.34039017,\n",
       "        -0.02705356, -0.9276777 ],\n",
       "       ...,\n",
       "       [-0.43311218,  0.42136703, -1.7455044 , ...,  0.7547216 ,\n",
       "         0.41649959, -1.49258291],\n",
       "       [-0.60729534, -0.65225201,  1.31546847, ..., -0.12014264,\n",
       "         0.54641555, -1.25692617],\n",
       "       [ 1.28459338, -0.4933696 , -0.32563676, ..., -0.21017413,\n",
       "         0.83954626, -0.89635794]])"
      ]
     },
     "execution_count": 34,
     "metadata": {},
     "output_type": "execute_result"
    }
   ],
   "source": [
    "train_x"
   ]
  },
  {
   "cell_type": "code",
   "execution_count": 35,
   "metadata": {},
   "outputs": [
    {
     "data": {
      "text/plain": [
       "array([0, 0, 1, ..., 0, 0, 1])"
      ]
     },
     "execution_count": 35,
     "metadata": {},
     "output_type": "execute_result"
    }
   ],
   "source": [
    "train_y"
   ]
  },
  {
   "cell_type": "markdown",
   "metadata": {},
   "source": [
    "So this is a binary dataset which is equally balanced.\n",
    "Now let's apply the classification algorithm to find out the accuracy and do the ROC, AUC Analysis"
   ]
  },
  {
   "cell_type": "markdown",
   "metadata": {},
   "source": [
    "# Random Forest Classifier"
   ]
  },
  {
   "cell_type": "code",
   "execution_count": 37,
   "metadata": {},
   "outputs": [
    {
     "data": {
      "text/plain": [
       "RandomForestClassifier()"
      ]
     },
     "execution_count": 37,
     "metadata": {},
     "output_type": "execute_result"
    }
   ],
   "source": [
    "from sklearn.metrics import accuracy_score, confusion_matrix, roc_auc_score,roc_curve\n",
    "classifier_random=RandomForestClassifier(n_estimators=100)\n",
    "classifier_random.fit(train_x,train_y)"
   ]
  },
  {
   "cell_type": "code",
   "execution_count": 87,
   "metadata": {},
   "outputs": [
    {
     "name": "stdout",
     "output_type": "stream",
     "text": [
      "The ROC-Train-AUC score for the model is : 1.0\n",
      "The ROC-Test-AUC score for the model is : 0.9790570957389909\n"
     ]
    }
   ],
   "source": [
    "y_train_pred=classifier_random.predict_proba(train_x)\n",
    "y_pred=classifier_random.predict_proba(test_x)\n",
    "print(\"The ROC-Train-AUC score for the model is : {}\".format(roc_auc_score(train_y,y_train_pred[:,1])))\n",
    "print(\"The ROC-Test-AUC score for the model is : {}\".format(roc_auc_score(test_y,y_pred[:,1])))"
   ]
  },
  {
   "cell_type": "code",
   "execution_count": 88,
   "metadata": {},
   "outputs": [],
   "source": [
    "y_pred=classifier_random.predict_proba(test_x)[::,1]\n",
    "tr_p,f_p,thresholds=roc_curve(test_y,y_pred)"
   ]
  },
  {
   "cell_type": "markdown",
   "metadata": {},
   "source": [
    "Let's Plot & see the FPR-TPR Curve"
   ]
  },
  {
   "cell_type": "code",
   "execution_count": 75,
   "metadata": {},
   "outputs": [
    {
     "data": {
      "image/png": "[encoded data removed]",
      "text/plain": [
       "<Figure size 432x288 with 1 Axes>"
      ]
     },
     "metadata": {
      "needs_background": "light"
     },
     "output_type": "display_data"
    }
   ],
   "source": [
    "plt.plot(tr_p,f_p)\n",
    "plt.xlabel('TPR')\n",
    "plt.ylabel('FPR')\n",
    "plt.show()"
   ]
  },
  {
   "cell_type": "code",
   "execution_count": 76,
   "metadata": {},
   "outputs": [
    {
     "data": {
      "text/plain": [
       "array([2.  , 1.  , 0.99, 0.98, 0.97, 0.96, 0.95, 0.94, 0.92, 0.9 , 0.89,\n",
       "       0.88, 0.86, 0.85, 0.82, 0.8 , 0.79, 0.76, 0.75, 0.72, 0.44, 0.43,\n",
       "       0.4 , 0.39, 0.38, 0.37, 0.36, 0.32, 0.29, 0.27, 0.26, 0.25, 0.24,\n",
       "       0.23, 0.22, 0.21, 0.2 , 0.19, 0.18, 0.17, 0.16, 0.15, 0.14, 0.13,\n",
       "       0.12, 0.1 , 0.09, 0.08, 0.07, 0.05, 0.04, 0.03, 0.02, 0.01, 0.  ])"
      ]
     },
     "execution_count": 76,
     "metadata": {},
     "output_type": "execute_result"
    }
   ],
   "source": [
    "thresholds"
   ]
  },
  {
   "cell_type": "markdown",
   "metadata": {},
   "source": [
    "Confusion matrix cannot be plotted at this point due to multiple label types in the target matrix.\n",
    "To see the confusion matrix, the y_pred label values has to be standardized"
   ]
  },
  {
   "cell_type": "markdown",
   "metadata": {},
   "source": [
    "# Adaboost Classifier"
   ]
  },
  {
   "cell_type": "code",
   "execution_count": 111,
   "metadata": {},
   "outputs": [
    {
     "data": {
      "text/plain": [
       "AdaBoostClassifier()"
      ]
     },
     "execution_count": 111,
     "metadata": {},
     "output_type": "execute_result"
    }
   ],
   "source": [
    "classifier_adaboost=AdaBoostClassifier()\n",
    "classifier_adaboost.fit(train_x,train_y)"
   ]
  },
  {
   "cell_type": "code",
   "execution_count": 114,
   "metadata": {},
   "outputs": [
    {
     "name": "stdout",
     "output_type": "stream",
     "text": [
      "The ROC-Train-AUC score for the model is : 0.9977030269001071\n",
      "The ROC-Test-AUC score for the model is : 0.9635240238901764\n"
     ]
    }
   ],
   "source": [
    "from sklearn.metrics import auc\n",
    "y_train_pred=classifier_adaboost.predict_proba(train_x)\n",
    "y_pred=classifier_adaboost.predict_proba(test_x)\n",
    "print(\"The ROC-Train-AUC score for the model is : {}\".format(roc_auc_score(train_y,y_train_pred[:,1])))\n",
    "print(\"The ROC-Test-AUC score for the model is : {}\".format(roc_auc_score(test_y,y_pred[:,1])))"
   ]
  },
  {
   "cell_type": "code",
   "execution_count": 120,
   "metadata": {},
   "outputs": [
    {
     "data": {
      "text/plain": [
       "array([[309,   7],\n",
       "       [ 29, 255]], dtype=int64)"
      ]
     },
     "execution_count": 120,
     "metadata": {},
     "output_type": "execute_result"
    }
   ],
   "source": [
    "y_pred_binary=classifier_adaboost.predict(test_x)\n",
    "confusion_matrix(test_y,y_pred_binary)"
   ]
  },
  {
   "cell_type": "markdown",
   "metadata": {},
   "source": [
    "# KN-Neigbour Classifier"
   ]
  },
  {
   "cell_type": "code",
   "execution_count": 129,
   "metadata": {},
   "outputs": [],
   "source": [
    "classifier_KNN=KNeighborsClassifier()\n",
    "classifier_KNN.fit(train_x,train_y)\n",
    "y_pred=classifier_KNN.predict_proba(test_x)[:,1]"
   ]
  },
  {
   "cell_type": "code",
   "execution_count": 132,
   "metadata": {},
   "outputs": [
    {
     "name": "stdout",
     "output_type": "stream",
     "text": [
      "The Train ROC-AUC score for the model is : 0.8934302014619362\n"
     ]
    }
   ],
   "source": [
    "print(\"The Train ROC-AUC score for the model is : {}\".format(roc_auc_score(test_y,y_pred)))"
   ]
  },
  {
   "cell_type": "markdown",
   "metadata": {},
   "source": [
    "# Logistic Regression"
   ]
  },
  {
   "cell_type": "code",
   "execution_count": 135,
   "metadata": {},
   "outputs": [
    {
     "name": "stdout",
     "output_type": "stream",
     "text": [
      "the ROC-AUC Socre for logistic regression is 0.9259894811909429\n"
     ]
    }
   ],
   "source": [
    "from sklearn.linear_model import LogisticRegression\n",
    "log_reg=LogisticRegression()\n",
    "log_reg.fit(train_x,train_y)\n",
    "y_pred=log_reg.predict_proba(test_x)[:,1]\n",
    "print('the ROC-AUC Socre for logistic regression is {}'.format(roc_auc_score(test_y,y_pred)))"
   ]
  },
  {
   "cell_type": "markdown",
   "metadata": {},
   "source": [
    "# Let's look at the mean predictions and capture all the predictions by the models in a single matrix"
   ]
  },
  {
   "cell_type": "code",
   "execution_count": 144,
   "metadata": {},
   "outputs": [],
   "source": [
    "predictions_by_model=[]\n",
    "for model in [log_reg,classifier_KNN,classifier_adaboost,classifier_random]:\n",
    "    y_predicted_by_model=model.predict_proba(test_x)[:,1]\n",
    "    predictions_by_model.append(pd.Series(y_predicted_by_model))\n",
    "final_preds=pd.concat(predictions_by_model,axis=1)"
   ]
  },
  {
   "cell_type": "code",
   "execution_count": 145,
   "metadata": {},
   "outputs": [
    {
     "data": {
      "text/html": [
       "<div>\n",
       "<style scoped>\n",
       "    .dataframe tbody tr th:only-of-type {\n",
       "        vertical-align: middle;\n",
       "    }\n",
       "\n",
       "    .dataframe tbody tr th {\n",
       "        vertical-align: top;\n",
       "    }\n",
       "\n",
       "    .dataframe thead th {\n",
       "        text-align: right;\n",
       "    }\n",
       "</style>\n",
       "<table border=\"1\" class=\"dataframe\">\n",
       "  <thead>\n",
       "    <tr style=\"text-align: right;\">\n",
       "      <th></th>\n",
       "      <th>0</th>\n",
       "      <th>1</th>\n",
       "      <th>2</th>\n",
       "      <th>3</th>\n",
       "    </tr>\n",
       "  </thead>\n",
       "  <tbody>\n",
       "    <tr>\n",
       "      <th>0</th>\n",
       "      <td>0.099174</td>\n",
       "      <td>0.2</td>\n",
       "      <td>0.479768</td>\n",
       "      <td>0.05</td>\n",
       "    </tr>\n",
       "    <tr>\n",
       "      <th>1</th>\n",
       "      <td>0.217133</td>\n",
       "      <td>0.6</td>\n",
       "      <td>0.484108</td>\n",
       "      <td>0.37</td>\n",
       "    </tr>\n",
       "    <tr>\n",
       "      <th>2</th>\n",
       "      <td>0.281832</td>\n",
       "      <td>0.0</td>\n",
       "      <td>0.489112</td>\n",
       "      <td>0.11</td>\n",
       "    </tr>\n",
       "    <tr>\n",
       "      <th>3</th>\n",
       "      <td>0.074776</td>\n",
       "      <td>0.0</td>\n",
       "      <td>0.471352</td>\n",
       "      <td>0.08</td>\n",
       "    </tr>\n",
       "    <tr>\n",
       "      <th>4</th>\n",
       "      <td>0.926841</td>\n",
       "      <td>0.6</td>\n",
       "      <td>0.579964</td>\n",
       "      <td>1.00</td>\n",
       "    </tr>\n",
       "    <tr>\n",
       "      <th>...</th>\n",
       "      <td>...</td>\n",
       "      <td>...</td>\n",
       "      <td>...</td>\n",
       "      <td>...</td>\n",
       "    </tr>\n",
       "    <tr>\n",
       "      <th>595</th>\n",
       "      <td>0.999993</td>\n",
       "      <td>1.0</td>\n",
       "      <td>0.701709</td>\n",
       "      <td>1.00</td>\n",
       "    </tr>\n",
       "    <tr>\n",
       "      <th>596</th>\n",
       "      <td>0.079589</td>\n",
       "      <td>0.0</td>\n",
       "      <td>0.475332</td>\n",
       "      <td>0.03</td>\n",
       "    </tr>\n",
       "    <tr>\n",
       "      <th>597</th>\n",
       "      <td>0.989254</td>\n",
       "      <td>1.0</td>\n",
       "      <td>0.741506</td>\n",
       "      <td>0.99</td>\n",
       "    </tr>\n",
       "    <tr>\n",
       "      <th>598</th>\n",
       "      <td>0.985098</td>\n",
       "      <td>1.0</td>\n",
       "      <td>0.723545</td>\n",
       "      <td>1.00</td>\n",
       "    </tr>\n",
       "    <tr>\n",
       "      <th>599</th>\n",
       "      <td>0.250666</td>\n",
       "      <td>0.2</td>\n",
       "      <td>0.487415</td>\n",
       "      <td>0.17</td>\n",
       "    </tr>\n",
       "  </tbody>\n",
       "</table>\n",
       "<p>600 rows × 4 columns</p>\n",
       "</div>"
      ],
      "text/plain": [
       "            0    1         2     3\n",
       "0    0.099174  0.2  0.479768  0.05\n",
       "1    0.217133  0.6  0.484108  0.37\n",
       "2    0.281832  0.0  0.489112  0.11\n",
       "3    0.074776  0.0  0.471352  0.08\n",
       "4    0.926841  0.6  0.579964  1.00\n",
       "..        ...  ...       ...   ...\n",
       "595  0.999993  1.0  0.701709  1.00\n",
       "596  0.079589  0.0  0.475332  0.03\n",
       "597  0.989254  1.0  0.741506  0.99\n",
       "598  0.985098  1.0  0.723545  1.00\n",
       "599  0.250666  0.2  0.487415  0.17\n",
       "\n",
       "[600 rows x 4 columns]"
      ]
     },
     "execution_count": 145,
     "metadata": {},
     "output_type": "execute_result"
    }
   ],
   "source": [
    "final_preds"
   ]
  },
  {
   "cell_type": "code",
   "execution_count": 146,
   "metadata": {},
   "outputs": [],
   "source": [
    "final_mean_prediction=pd.concat(predictions_by_model,axis=1).mean(axis=1)"
   ]
  },
  {
   "cell_type": "code",
   "execution_count": 148,
   "metadata": {},
   "outputs": [
    {
     "name": "stdout",
     "output_type": "stream",
     "text": [
      "Mean ROC-AUC Score from the predictions from all the models : 0.971830985915493\n"
     ]
    }
   ],
   "source": [
    "print('Mean ROC-AUC Score from the predictions from all the models : {}'.format(roc_auc_score(test_y,final_mean_prediction)))"
   ]
  },
  {
   "cell_type": "markdown",
   "metadata": {},
   "source": [
    "# Lets Fetch all the threshold values used by this model in predictions(mean predictions by all the models)"
   ]
  },
  {
   "cell_type": "code",
   "execution_count": 150,
   "metadata": {},
   "outputs": [],
   "source": [
    "true_positive,false_positive,Thresholds=roc_curve(test_y,final_mean_prediction)"
   ]
  },
  {
   "cell_type": "code",
   "execution_count": 158,
   "metadata": {},
   "outputs": [
    {
     "name": "stdout",
     "output_type": "stream",
     "text": [
      "<class 'numpy.ndarray'>\n"
     ]
    }
   ],
   "source": [
    "print(type(y_preds_standardized_by_threshold))"
   ]
  },
  {
   "cell_type": "markdown",
   "metadata": {},
   "source": [
    "# In this step we will be looping though all the thresholds we have got in mean_predicted_y_label values and will replace the y_predicted with 1 where values are greated than threshold and equal to 0 where the y_predicted values are less than the threshold"
   ]
  },
  {
   "cell_type": "code",
   "execution_count": 179,
   "metadata": {},
   "outputs": [],
   "source": [
    "import numpy as np\n",
    "from sklearn.metrics import accuracy_score\n",
    "\n",
    "accuracy_scores_list=[]\n",
    "for threshold_value in Thresholds:\n",
    "    y_preds_standardized_by_threshold=np.where(final_mean_prediction>threshold_value,1,0)\n",
    "    accuracy_score_calculated=accuracy_score(test_y,y_preds_standardized_by_threshold,normalize=True)\n",
    "    accuracy_scores_list.append(accuracy_score_calculated)\n",
    "    \n",
    "performance_basis_threshold_matrix=pd.concat([pd.Series(Thresholds),pd.Series(accuracy_scores_list)],axis=1)\n",
    "performance_basis_threshold_matrix.columns=['Threshold','Accuracy']\n",
    "performance_basis_threshold_matrix.sort_values(by='Accuracy',ascending=False,inplace=True)"
   ]
  },
  {
   "cell_type": "markdown",
   "metadata": {},
   "source": [
    "# We will see the accuracy scores with respect to the threshold values used to do the normalization in the y_predicted values"
   ]
  },
  {
   "cell_type": "code",
   "execution_count": 180,
   "metadata": {},
   "outputs": [
    {
     "data": {
      "text/html": [
       "<div>\n",
       "<style scoped>\n",
       "    .dataframe tbody tr th:only-of-type {\n",
       "        vertical-align: middle;\n",
       "    }\n",
       "\n",
       "    .dataframe tbody tr th {\n",
       "        vertical-align: top;\n",
       "    }\n",
       "\n",
       "    .dataframe thead th {\n",
       "        text-align: right;\n",
       "    }\n",
       "</style>\n",
       "<table border=\"1\" class=\"dataframe\">\n",
       "  <thead>\n",
       "    <tr style=\"text-align: right;\">\n",
       "      <th></th>\n",
       "      <th>Threshold</th>\n",
       "      <th>Accuracy</th>\n",
       "    </tr>\n",
       "  </thead>\n",
       "  <tbody>\n",
       "    <tr>\n",
       "      <th>19</th>\n",
       "      <td>0.414384</td>\n",
       "      <td>0.931667</td>\n",
       "    </tr>\n",
       "    <tr>\n",
       "      <th>17</th>\n",
       "      <td>0.417810</td>\n",
       "      <td>0.931667</td>\n",
       "    </tr>\n",
       "    <tr>\n",
       "      <th>16</th>\n",
       "      <td>0.421399</td>\n",
       "      <td>0.931667</td>\n",
       "    </tr>\n",
       "    <tr>\n",
       "      <th>20</th>\n",
       "      <td>0.412432</td>\n",
       "      <td>0.930000</td>\n",
       "    </tr>\n",
       "    <tr>\n",
       "      <th>18</th>\n",
       "      <td>0.414903</td>\n",
       "      <td>0.930000</td>\n",
       "    </tr>\n",
       "    <tr>\n",
       "      <th>...</th>\n",
       "      <td>...</td>\n",
       "      <td>...</td>\n",
       "    </tr>\n",
       "    <tr>\n",
       "      <th>65</th>\n",
       "      <td>0.168095</td>\n",
       "      <td>0.550000</td>\n",
       "    </tr>\n",
       "    <tr>\n",
       "      <th>66</th>\n",
       "      <td>0.167897</td>\n",
       "      <td>0.548333</td>\n",
       "    </tr>\n",
       "    <tr>\n",
       "      <th>0</th>\n",
       "      <td>1.937168</td>\n",
       "      <td>0.526667</td>\n",
       "    </tr>\n",
       "    <tr>\n",
       "      <th>1</th>\n",
       "      <td>0.937168</td>\n",
       "      <td>0.526667</td>\n",
       "    </tr>\n",
       "    <tr>\n",
       "      <th>67</th>\n",
       "      <td>0.114474</td>\n",
       "      <td>0.475000</td>\n",
       "    </tr>\n",
       "  </tbody>\n",
       "</table>\n",
       "<p>68 rows × 2 columns</p>\n",
       "</div>"
      ],
      "text/plain": [
       "    Threshold  Accuracy\n",
       "19   0.414384  0.931667\n",
       "17   0.417810  0.931667\n",
       "16   0.421399  0.931667\n",
       "20   0.412432  0.930000\n",
       "18   0.414903  0.930000\n",
       "..        ...       ...\n",
       "65   0.168095  0.550000\n",
       "66   0.167897  0.548333\n",
       "0    1.937168  0.526667\n",
       "1    0.937168  0.526667\n",
       "67   0.114474  0.475000\n",
       "\n",
       "[68 rows x 2 columns]"
      ]
     },
     "execution_count": 180,
     "metadata": {},
     "output_type": "execute_result"
    }
   ],
   "source": [
    "performance_basis_threshold_matrix"
   ]
  },
  {
   "cell_type": "markdown",
   "metadata": {},
   "source": [
    "# Here we can conclude that at threshold value \"0.414384\", the accuracy is coming as maximum"
   ]
  },
  {
   "cell_type": "code",
   "execution_count": null,
   "metadata": {},
   "outputs": [],
   "source": []
  }
 ],
 "metadata": {
  "kernelspec": {
   "display_name": "Python 3",
   "language": "python",
   "name": "python3"
  },
  "language_info": {
   "codemirror_mode": {
    "name": "ipython",
    "version": 3
   },
   "file_extension": ".py",
   "mimetype": "text/x-python",
   "name": "python",
   "nbconvert_exporter": "python",
   "pygments_lexer": "ipython3",
   "version": "3.8.3"
  }
 },
 "nbformat": 4,
 "nbformat_minor": 4
}
